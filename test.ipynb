{
 "cells": [
  {
   "cell_type": "code",
   "execution_count": 1,
   "metadata": {},
   "outputs": [],
   "source": [
    "import gradio as gr\n",
    "from dotenv import load_dotenv\n",
    "import tomli\n",
    "from link_converter import get_file_url\n",
    "from pathlib import Path\n",
    "\n",
    "load_dotenv()\n",
    "\n",
    "\n",
    "def load_config():\n",
    "    with open(\"config.toml\", \"rb\") as f:\n",
    "        config = tomli.load(f)\n",
    "    return config\n",
    "\n",
    "\n",
    "CONFIG = load_config()\n"
   ]
  },
  {
   "cell_type": "code",
   "execution_count": 2,
   "metadata": {},
   "outputs": [],
   "source": [
    "BASE_DIR = CONFIG[\"directories\"][\"base_dir\"]\n",
    "BASE_URL = CONFIG[\"directories\"][\"base_url\"]\n",
    "model = CONFIG[\"model\"][\"gemini_model_name\"]"
   ]
  },
  {
   "cell_type": "code",
   "execution_count": 15,
   "metadata": {},
   "outputs": [],
   "source": [
    "from langchain_google_genai import ChatGoogleGenerativeAI\n",
    "\n",
    "system_message = \"Answer the questions about Montaigne.\"\n",
    "\n",
    "\n",
    "class Chatbot:\n",
    "    def __init__(self, model: str, system_message: str):\n",
    "        self.llm = ChatGoogleGenerativeAI(model=model)\n",
    "        self.system_message = [{\"role\": \"system\", \"content\": system_message}]\n",
    "\n",
    "    def _history_to_messages(self, history: list):\n",
    "        # because history comes from gradio.chatinterface, it has more keys than just role and content\n",
    "        # Therefore we need to filter out the extra keys to be compatible with langchain\n",
    "        return [{k: v for k, v in msg.items() if k in [\"role\", \"content\"]} for msg in history]\n",
    "\n",
    "    def query_llm(self, query: str, history: list):\n",
    "        history_langchain = self.system_message + self._history_to_messages(history)\n",
    "        history_langchain.append({\"role\": \"user\", \"content\": query})\n",
    "        response = self.llm.invoke(history_langchain)\n",
    "\n",
    "        return response.content\n"
   ]
  },
  {
   "cell_type": "code",
   "execution_count": 16,
   "metadata": {},
   "outputs": [],
   "source": [
    "current_file_path = None\n",
    "current_url = None\n",
    "\n",
    "\n",
    "def get_url(file_path: str):\n",
    "    global current_file_path\n",
    "    global current_url\n",
    "    current_file_path = Path(file_path)\n",
    "    current_url = get_file_url(current_file_path, BASE_URL)\n",
    "    return current_file_path.name, current_url"
   ]
  },
  {
   "cell_type": "code",
   "execution_count": null,
   "metadata": {},
   "outputs": [],
   "source": [
    "with gr.Blocks() as demo:\n",
    "    with gr.Row():\n",
    "        with gr.Column():\n",
    "            fe = gr.FileExplorer(glob=\"**/*.pdf\", root_dir=BASE_DIR, file_count=\"single\")\n",
    "        with gr.Column():\n",
    "            url = gr.Textbox(label=\"URL\")\n",
    "            path = gr.Textbox(label=\"File Path\")\n",
    "\n",
    "            chat_interface = gr.ChatInterface(\n",
    "                fn=query_llm,\n",
    "                type=\"messages\",\n",
    "                title=\"Montaigne Chatbot\",\n",
    "                description=\"Ask questions about Montaigne's works.\",\n",
    "            )\n",
    "\n",
    "    fe.change(fn=get_url, inputs=fe, outputs=[path, url])\n",
    "\n",
    "\n",
    "demo.launch()\n"
   ]
  },
  {
   "cell_type": "code",
   "execution_count": 17,
   "metadata": {},
   "outputs": [
    {
     "name": "stdout",
     "output_type": "stream",
     "text": [
      "* Running on local URL:  http://127.0.0.1:7862\n",
      "\n",
      "To create a public link, set `share=True` in `launch()`.\n"
     ]
    },
    {
     "data": {
      "text/html": [
       "<div><iframe src=\"http://127.0.0.1:7862/\" width=\"100%\" height=\"500\" allow=\"autoplay; camera; microphone; clipboard-read; clipboard-write;\" frameborder=\"0\" allowfullscreen></iframe></div>"
      ],
      "text/plain": [
       "<IPython.core.display.HTML object>"
      ]
     },
     "metadata": {},
     "output_type": "display_data"
    },
    {
     "data": {
      "text/plain": []
     },
     "execution_count": 17,
     "metadata": {},
     "output_type": "execute_result"
    }
   ],
   "source": [
    "chatbot = Chatbot(model=model, system_message=system_message)\n",
    "\n",
    "with gr.Blocks() as demo:\n",
    "    with gr.Row():\n",
    "        with gr.Column():\n",
    "            fe = gr.FileExplorer(glob=\"**/*.pdf\", root_dir=BASE_DIR, file_count=\"single\")\n",
    "        with gr.Column():\n",
    "            url = gr.Textbox(label=\"URL\")\n",
    "            path = gr.Textbox(label=\"File Path\")\n",
    "\n",
    "            chat_interface = gr.ChatInterface(\n",
    "                fn=chatbot.query_llm,\n",
    "                type=\"messages\",\n",
    "                title=\"Montaigne Chatbot\",\n",
    "                description=\"Ask questions about Montaigne's works.\",\n",
    "            )\n",
    "\n",
    "    fe.change(fn=get_url, inputs=fe, outputs=[path, url])\n",
    "\n",
    "\n",
    "demo.launch()\n"
   ]
  },
  {
   "cell_type": "code",
   "execution_count": null,
   "metadata": {},
   "outputs": [],
   "source": []
  }
 ],
 "metadata": {
  "kernelspec": {
   "display_name": ".venv",
   "language": "python",
   "name": "python3"
  },
  "language_info": {
   "codemirror_mode": {
    "name": "ipython",
    "version": 3
   },
   "file_extension": ".py",
   "mimetype": "text/x-python",
   "name": "python",
   "nbconvert_exporter": "python",
   "pygments_lexer": "ipython3",
   "version": "3.13.1"
  }
 },
 "nbformat": 4,
 "nbformat_minor": 2
}
