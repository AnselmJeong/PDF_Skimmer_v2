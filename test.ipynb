{
 "cells": [
  {
   "cell_type": "code",
   "execution_count": 1,
   "metadata": {},
   "outputs": [],
   "source": [
    "import gradio as gr\n",
    "from config import CONFIG\n",
    "from skimmer import PDFSkimmer\n",
    "from chatbot import Chatbot\n",
    "\n",
    "BASE_DIR = CONFIG[\"directories\"][\"base_dir\"]\n",
    "BASE_URL = CONFIG[\"directories\"][\"base_url\"]\n"
   ]
  },
  {
   "cell_type": "code",
   "execution_count": 2,
   "metadata": {},
   "outputs": [],
   "source": [
    "skimmer = PDFSkimmer()\n",
    "chatbot = Chatbot(type=\"analysis\")\n",
    "\n",
    "\n",
    "def get_summary(file_path: str):\n",
    "    return skimmer.load_or_summary(file_path)\n"
   ]
  },
  {
   "cell_type": "code",
   "execution_count": 3,
   "metadata": {},
   "outputs": [],
   "source": [
    "file_path = \"/Volumes/AnselmJeong.ddns.net/LIBRARY/Articles/d41586-025-00068-5.pdf\""
   ]
  },
  {
   "cell_type": "code",
   "execution_count": 4,
   "metadata": {},
   "outputs": [
    {
     "name": "stdout",
     "output_type": "stream",
     "text": [
      "No summary found for /Volumes/AnselmJeong.ddns.net/LIBRARY/Articles/d41586-025-00068-5.pdf\n",
      "URL: http://anselmjeong.synology.me:8091/share/GXzzOcfK/d41586-025-00068-5.pdf\n",
      "Response from the LLM:\n",
      "\n",
      "{'core_question': 'What is the core research question?', 'introduction': 'What is the background and context of the study?', 'methodology': 'What is the methodology of the study?', 'results': 'What are the key results and findings?', 'discussion': 'What are the implications of the results?', 'limitations': 'What are the limitations of the study?'}\n"
     ]
    },
    {
     "ename": "TypeError",
     "evalue": "custom_types.DatabaseSummary() argument after ** must be a mapping, not PaperSummary",
     "output_type": "error",
     "traceback": [
      "\u001b[0;31m---------------------------------------------------------------------------\u001b[0m",
      "\u001b[0;31mTypeError\u001b[0m                                 Traceback (most recent call last)",
      "Cell \u001b[0;32mIn[4], line 1\u001b[0m\n\u001b[0;32m----> 1\u001b[0m response \u001b[38;5;241m=\u001b[39m \u001b[43mget_summary\u001b[49m\u001b[43m(\u001b[49m\u001b[43mfile_path\u001b[49m\u001b[43m)\u001b[49m\n\u001b[1;32m      2\u001b[0m \u001b[38;5;28mprint\u001b[39m(response)\n",
      "Cell \u001b[0;32mIn[2], line 6\u001b[0m, in \u001b[0;36mget_summary\u001b[0;34m(file_path)\u001b[0m\n\u001b[1;32m      5\u001b[0m \u001b[38;5;28;01mdef\u001b[39;00m\u001b[38;5;250m \u001b[39m\u001b[38;5;21mget_summary\u001b[39m(file_path: \u001b[38;5;28mstr\u001b[39m):\n\u001b[0;32m----> 6\u001b[0m     \u001b[38;5;28;01mreturn\u001b[39;00m \u001b[43mskimmer\u001b[49m\u001b[38;5;241;43m.\u001b[39;49m\u001b[43mload_or_summary\u001b[49m\u001b[43m(\u001b[49m\u001b[43mfile_path\u001b[49m\u001b[43m)\u001b[49m\n",
      "File \u001b[0;32m~/_DEV_/PDF_Skimmer_v2/skimmer.py:20\u001b[0m, in \u001b[0;36mPDFSkimmer.load_or_summary\u001b[0;34m(self, file_path)\u001b[0m\n\u001b[1;32m     18\u001b[0m     \u001b[38;5;28;01mreturn\u001b[39;00m summary\n\u001b[1;32m     19\u001b[0m \u001b[38;5;28;01melif\u001b[39;00m summary \u001b[38;5;241m:=\u001b[39m \u001b[38;5;28mself\u001b[39m\u001b[38;5;241m.\u001b[39marticle_analyzer\u001b[38;5;241m.\u001b[39msummarize(file_path):\n\u001b[0;32m---> 20\u001b[0m     summary \u001b[38;5;241m=\u001b[39m DatabaseSummary(\u001b[38;5;241m*\u001b[39m\u001b[38;5;241m*\u001b[39msummary)\n\u001b[1;32m     21\u001b[0m     summary\u001b[38;5;241m.\u001b[39mfile_path \u001b[38;5;241m=\u001b[39m file_path\n\u001b[1;32m     22\u001b[0m     \u001b[38;5;28mself\u001b[39m\u001b[38;5;241m.\u001b[39mdb_manager\u001b[38;5;241m.\u001b[39msave_summary(summary)\n",
      "\u001b[0;31mTypeError\u001b[0m: custom_types.DatabaseSummary() argument after ** must be a mapping, not PaperSummary"
     ]
    }
   ],
   "source": [
    "response = get_summary(file_path)\n",
    "print(response)"
   ]
  },
  {
   "cell_type": "code",
   "execution_count": null,
   "metadata": {},
   "outputs": [],
   "source": [
    "from article_analysis import ArticleAnalyzer\n",
    "\n",
    "AA = ArticleAnalyzer()\n",
    "response = AA.summarize(file_path)\n"
   ]
  },
  {
   "cell_type": "code",
   "execution_count": 5,
   "metadata": {},
   "outputs": [],
   "source": [
    "chatbot.set_url(\"http://anselmjeong.synology.me:8091/share/GXzzOcfK/d41586-025-00068-5.pdf\")"
   ]
  },
  {
   "cell_type": "code",
   "execution_count": null,
   "metadata": {},
   "outputs": [],
   "source": [
    "chatbot.query_llm()"
   ]
  },
  {
   "cell_type": "code",
   "execution_count": null,
   "metadata": {},
   "outputs": [],
   "source": [
    "chatbot.history_langchain"
   ]
  },
  {
   "cell_type": "code",
   "execution_count": null,
   "metadata": {},
   "outputs": [],
   "source": [
    "with gr.Blocks() as demo:\n",
    "    with gr.Row():\n",
    "        with gr.Column():\n",
    "            file_explorer = gr.FileExplorer(glob=\"**/*.pdf\", root_dir=BASE_DIR, file_count=\"single\")\n",
    "        with gr.Column():\n",
    "            url = gr.Textbox(label=\"URL\")\n",
    "            path = gr.Textbox(label=\"File Path\")\n",
    "            result = gr.JSON(label=\"Summary\")\n",
    "\n",
    "            chat_interface = gr.ChatInterface(\n",
    "                fn=get_summary,\n",
    "                type=\"messages\",\n",
    "                title=\"PDF Skimmer\",\n",
    "                description=\"Summarize a PDF file.\",\n",
    "            )\n",
    "\n",
    "    file_explorer.change(fn=get_summary, inputs=file_explorer, outputs=[result])\n",
    "\n",
    "\n",
    "demo.launch()\n"
   ]
  },
  {
   "cell_type": "code",
   "execution_count": null,
   "metadata": {},
   "outputs": [],
   "source": []
  }
 ],
 "metadata": {
  "kernelspec": {
   "display_name": ".venv",
   "language": "python",
   "name": "python3"
  },
  "language_info": {
   "codemirror_mode": {
    "name": "ipython",
    "version": 3
   },
   "file_extension": ".py",
   "mimetype": "text/x-python",
   "name": "python",
   "nbconvert_exporter": "python",
   "pygments_lexer": "ipython3",
   "version": "3.13.1"
  }
 },
 "nbformat": 4,
 "nbformat_minor": 2
}
