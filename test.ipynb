{
 "cells": [
  {
   "cell_type": "code",
   "execution_count": 2,
   "metadata": {},
   "outputs": [
    {
     "name": "stderr",
     "output_type": "stream",
     "text": [
      "/Volumes/Aquatope/_DEV_/PDF_Skimmer_v2/.venv/lib/python3.13/site-packages/langchain_deepseek/__init__.py:2: LangChainDeprecationWarning: As of langchain-core 0.3.0, LangChain uses pydantic v2 internally. The langchain_core.pydantic_v1 module was a compatibility shim for pydantic v1, and should no longer be used. Please update the code to import from Pydantic directly.\n",
      "\n",
      "For example, replace imports like: `from langchain_core.pydantic_v1 import BaseModel`\n",
      "with: `from pydantic import BaseModel`\n",
      "or the v1 compatibility namespace if you are working in a code base that has not been fully upgraded to pydantic 2 yet. \tfrom pydantic.v1 import BaseModel\n",
      "\n",
      "  from .base import ChatDeepSeekAI\n"
     ]
    }
   ],
   "source": [
    "import gradio as gr\n",
    "from gradio import ChatMessage\n",
    "from pathlib import Path\n",
    "\n",
    "from config import CONFIG\n",
    "from skimmer import PDFSkimmer\n",
    "from chatbot import Chatbot\n",
    "from db_manager import DatabaseManager\n",
    "\n",
    "BASE_DIR = CONFIG[\"directories\"][\"base_dir\"]\n",
    "BASE_URL = CONFIG[\"directories\"][\"base_url\"]\n"
   ]
  },
  {
   "cell_type": "code",
   "execution_count": 2,
   "metadata": {},
   "outputs": [],
   "source": [
    "skimmer = PDFSkimmer()\n",
    "chatbot = Chatbot(type=\"analysis\")\n",
    "\n",
    "\n",
    "def get_summary(file_path: str):\n",
    "    return skimmer.load_or_summary(file_path)\n"
   ]
  },
  {
   "cell_type": "code",
   "execution_count": 3,
   "metadata": {},
   "outputs": [],
   "source": [
    "file_path = \"/Volumes/AnselmJeong.ddns.net/LIBRARY/Articles/d41586-025-00068-5.pdf\""
   ]
  },
  {
   "cell_type": "code",
   "execution_count": 4,
   "metadata": {},
   "outputs": [
    {
     "name": "stdout",
     "output_type": "stream",
     "text": [
      "No summary found for /Volumes/AnselmJeong.ddns.net/LIBRARY/Articles/d41586-025-00068-5.pdf\n",
      "URL: http://anselmjeong.synology.me:8091/share/GXzzOcfK/d41586-025-00068-5.pdf\n",
      "Response from the LLM:\n",
      "\n",
      "{'core_question': 'What is the core research question?', 'introduction': 'What is the background and context of the study?', 'methodology': 'What is the methodology of the study?', 'results': 'What are the key results and findings?', 'discussion': 'What are the implications of the results?', 'limitations': 'What are the limitations of the study?'}\n"
     ]
    },
    {
     "ename": "TypeError",
     "evalue": "custom_types.DatabaseSummary() argument after ** must be a mapping, not PaperSummary",
     "output_type": "error",
     "traceback": [
      "\u001b[0;31m---------------------------------------------------------------------------\u001b[0m",
      "\u001b[0;31mTypeError\u001b[0m                                 Traceback (most recent call last)",
      "Cell \u001b[0;32mIn[4], line 1\u001b[0m\n\u001b[0;32m----> 1\u001b[0m response \u001b[38;5;241m=\u001b[39m \u001b[43mget_summary\u001b[49m\u001b[43m(\u001b[49m\u001b[43mfile_path\u001b[49m\u001b[43m)\u001b[49m\n\u001b[1;32m      2\u001b[0m \u001b[38;5;28mprint\u001b[39m(response)\n",
      "Cell \u001b[0;32mIn[2], line 6\u001b[0m, in \u001b[0;36mget_summary\u001b[0;34m(file_path)\u001b[0m\n\u001b[1;32m      5\u001b[0m \u001b[38;5;28;01mdef\u001b[39;00m\u001b[38;5;250m \u001b[39m\u001b[38;5;21mget_summary\u001b[39m(file_path: \u001b[38;5;28mstr\u001b[39m):\n\u001b[0;32m----> 6\u001b[0m     \u001b[38;5;28;01mreturn\u001b[39;00m \u001b[43mskimmer\u001b[49m\u001b[38;5;241;43m.\u001b[39;49m\u001b[43mload_or_summary\u001b[49m\u001b[43m(\u001b[49m\u001b[43mfile_path\u001b[49m\u001b[43m)\u001b[49m\n",
      "File \u001b[0;32m~/_DEV_/PDF_Skimmer_v2/skimmer.py:20\u001b[0m, in \u001b[0;36mPDFSkimmer.load_or_summary\u001b[0;34m(self, file_path)\u001b[0m\n\u001b[1;32m     18\u001b[0m     \u001b[38;5;28;01mreturn\u001b[39;00m summary\n\u001b[1;32m     19\u001b[0m \u001b[38;5;28;01melif\u001b[39;00m summary \u001b[38;5;241m:=\u001b[39m \u001b[38;5;28mself\u001b[39m\u001b[38;5;241m.\u001b[39marticle_analyzer\u001b[38;5;241m.\u001b[39msummarize(file_path):\n\u001b[0;32m---> 20\u001b[0m     summary \u001b[38;5;241m=\u001b[39m DatabaseSummary(\u001b[38;5;241m*\u001b[39m\u001b[38;5;241m*\u001b[39msummary)\n\u001b[1;32m     21\u001b[0m     summary\u001b[38;5;241m.\u001b[39mfile_path \u001b[38;5;241m=\u001b[39m file_path\n\u001b[1;32m     22\u001b[0m     \u001b[38;5;28mself\u001b[39m\u001b[38;5;241m.\u001b[39mdb_manager\u001b[38;5;241m.\u001b[39msave_summary(summary)\n",
      "\u001b[0;31mTypeError\u001b[0m: custom_types.DatabaseSummary() argument after ** must be a mapping, not PaperSummary"
     ]
    }
   ],
   "source": [
    "response = get_summary(file_path)\n",
    "print(response)"
   ]
  },
  {
   "cell_type": "code",
   "execution_count": null,
   "metadata": {},
   "outputs": [],
   "source": [
    "from article_analysis import ArticleAnalyzer\n",
    "\n",
    "AA = ArticleAnalyzer()\n",
    "response = AA.summarize(file_path)\n"
   ]
  },
  {
   "cell_type": "code",
   "execution_count": 5,
   "metadata": {},
   "outputs": [],
   "source": [
    "chatbot.set_url(\"http://anselmjeong.synology.me:8091/share/GXzzOcfK/d41586-025-00068-5.pdf\")"
   ]
  },
  {
   "cell_type": "code",
   "execution_count": null,
   "metadata": {},
   "outputs": [],
   "source": [
    "chatbot.query_llm()"
   ]
  },
  {
   "cell_type": "code",
   "execution_count": null,
   "metadata": {},
   "outputs": [],
   "source": [
    "chatbot.history_langchain"
   ]
  },
  {
   "cell_type": "code",
   "execution_count": null,
   "metadata": {},
   "outputs": [],
   "source": [
    "def generate_chatinterface(file_path: str):\n",
    "    def _handle_chat(input: str, history: list):\n",
    "        history.append({\"role\": \"user\", \"content\": input})\n",
    "\n",
    "        # response = chatbot.query_llm(input, history)\n",
    "\n",
    "        response = \"This is a test response\"\n",
    "        history.append({\"role\": \"assistant\", \"content\": response})\n",
    "        return \"\", history\n",
    "\n",
    "    gr.Markdown(\"# Chat with a LangChain Agent\")\n",
    "    chatbot = gr.Chatbot(\n",
    "        type=\"messages\",\n",
    "        label=\"Langchain Agent\",\n",
    "    )\n",
    "    input = gr.Textbox(lines=1, label=\"Chat Message\")\n",
    "    input.submit(_handle_chat, [input, chatbot], [input, chatbot])\n"
   ]
  },
  {
   "cell_type": "code",
   "execution_count": 2,
   "metadata": {},
   "outputs": [
    {
     "name": "stdout",
     "output_type": "stream",
     "text": [
      "* Running on local URL:  http://127.0.0.1:7860\n",
      "\n",
      "To create a public link, set `share=True` in `launch()`.\n"
     ]
    },
    {
     "data": {
      "text/html": [
       "<div><iframe src=\"http://127.0.0.1:7860/\" width=\"100%\" height=\"500\" allow=\"autoplay; camera; microphone; clipboard-read; clipboard-write;\" frameborder=\"0\" allowfullscreen></iframe></div>"
      ],
      "text/plain": [
       "<IPython.core.display.HTML object>"
      ]
     },
     "metadata": {},
     "output_type": "display_data"
    },
    {
     "data": {
      "text/plain": []
     },
     "execution_count": 2,
     "metadata": {},
     "output_type": "execute_result"
    }
   ],
   "source": [
    "db_manager = DatabaseManager()\n",
    "\n",
    "with gr.Blocks() as demo:\n",
    "    with gr.Row():\n",
    "        with gr.Column():\n",
    "            file_explorer = gr.FileExplorer(glob=\"**/*.pdf\", root_dir=BASE_DIR, file_count=\"single\")\n",
    "        with gr.Column():\n",
    "            gr.Markdown(\"# Chat with a LangChain Agent\")\n",
    "            chatbox = gr.Chatbot(\n",
    "                type=\"messages\",\n",
    "                label=\"Langchain Agent\",\n",
    "            )\n",
    "            with gr.Group():\n",
    "                with gr.Row():\n",
    "                    input = gr.Textbox(lines=1, scale=10, show_label=False, container=False)\n",
    "                    save_button = gr.Button(\"Save\", scale=1)\n",
    "\n",
    "            def load_chat_history(file_path: str):\n",
    "                try:\n",
    "                    file_name = Path(file_path).name\n",
    "                    chat_record = db_manager.get_chat_history(file_name)\n",
    "                    if chat_record:\n",
    "                        return chat_record\n",
    "                    return []\n",
    "                except Exception as e:\n",
    "                    print(f\"Error loading chat history: {str(e)}\")\n",
    "                    return []\n",
    "\n",
    "            # Add file_explorer change event to load chat history\n",
    "            file_explorer.change(fn=load_chat_history, inputs=[file_explorer], outputs=[chatbox])\n",
    "\n",
    "            def save_chat_history(file_path: str, history: list):\n",
    "                if not file_path:\n",
    "                    return gr.Error(\"Please select a file first\")\n",
    "                try:\n",
    "                    file_name = Path(file_path).name\n",
    "                    db_manager.save_chat_history(file_name, history)\n",
    "                    gr.Info(\"Chat history saved successfully\")\n",
    "                except Exception as e:\n",
    "                    gr.Error(f\"Error saving chat history: {str(e)}\")\n",
    "\n",
    "            def _handle_chat(input: str, history: list):\n",
    "                history.append({\"role\": \"user\", \"content\": input})\n",
    "\n",
    "                # response = chatbot.query_llm(input, history)\n",
    "\n",
    "                response = f\"This is a {len(history)} test response\"\n",
    "                history.append({\"role\": \"assistant\", \"content\": response})\n",
    "                return \"\", history\n",
    "\n",
    "            save_button.click(fn=save_chat_history, inputs=[file_explorer, chatbox])\n",
    "\n",
    "            input.submit(_handle_chat, [input, chatbox], [input, chatbox])\n",
    "\n",
    "    # file_explorer.change(fn=get_summary, inputs=file_explorer, outputs=[result])\n",
    "\n",
    "\n",
    "demo.launch()\n"
   ]
  },
  {
   "cell_type": "code",
   "execution_count": 3,
   "metadata": {},
   "outputs": [],
   "source": [
    "from pathlib import Path\n",
    "import urllib.parse\n",
    "\n",
    "\n",
    "def get_file_url(file_path: str | Path, base_url: str = BASE_URL) -> str:\n",
    "    if isinstance(file_path, str):\n",
    "        file_path = Path(file_path)\n",
    "    # Remove the BASE_DIR part from the file_path\n",
    "    if str(file_path).startswith(BASE_DIR):\n",
    "        file_path = file_path.relative_to(BASE_DIR)\n",
    "    # URL encode the filename\n",
    "    encoded_filename = urllib.parse.quote(str(file_path))\n",
    "\n",
    "    # Combine base URL with encoded filename\n",
    "    full_url = \"/\".join([base_url, encoded_filename])\n",
    "\n",
    "    return str(full_url)\n"
   ]
  },
  {
   "cell_type": "code",
   "execution_count": 4,
   "metadata": {},
   "outputs": [
    {
     "name": "stdout",
     "output_type": "stream",
     "text": [
      "http://anselmjeong.synology.me:8091/share/GXzzOcfK/Artificial%20Intelligence%20and%20Machine%20Learning/2017%20-%20Orhan%20et%20al.%20-%20Efficient%20probabilistic%20inference%20in%20generic%20neural%20networks%20trained%20with%20non-probabilistic%20feedback.pdf\n"
     ]
    }
   ],
   "source": [
    "from config import CONFIG\n",
    "\n",
    "BASE_DIR = CONFIG[\"directories\"][\"base_dir\"]\n",
    "BASE_URL = CONFIG[\"directories\"][\"base_url\"]\n",
    "file_path = \"/Volumes/LIBRARY/Articles/Artificial Intelligence and Machine Learning/2017 - Orhan et al. - Efficient probabilistic inference in generic neural networks trained with non-probabilistic feedback.pdf\"\n",
    "url = get_file_url(file_path, base_url=BASE_URL)\n",
    "print(url)\n"
   ]
  },
  {
   "cell_type": "code",
   "execution_count": null,
   "metadata": {},
   "outputs": [],
   "source": []
  }
 ],
 "metadata": {
  "kernelspec": {
   "display_name": ".venv",
   "language": "python",
   "name": "python3"
  },
  "language_info": {
   "codemirror_mode": {
    "name": "ipython",
    "version": 3
   },
   "file_extension": ".py",
   "mimetype": "text/x-python",
   "name": "python",
   "nbconvert_exporter": "python",
   "pygments_lexer": "ipython3",
   "version": "3.13.1"
  }
 },
 "nbformat": 4,
 "nbformat_minor": 2
}
